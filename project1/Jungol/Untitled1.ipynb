{
 "cells": [
  {
   "cell_type": "code",
   "execution_count": 1,
   "metadata": {
    "collapsed": true
   },
   "outputs": [],
   "source": [
    "arr = '''0 0 0 0 0 0 0 0 0 0 0 0 0 0 0 0 0 0 0\n",
    "0 0 0 0 0 0 0 0 0 0 0 0 0 0 0 0 0 0 0\n",
    "0 1 2 0 0 2 2 2 1 0 0 0 0 0 0 0 0 0 0\n",
    "0 0 1 2 0 0 0 0 1 0 0 0 0 0 0 0 0 0 0\n",
    "0 0 0 1 2 0 0 0 0 0 0 0 0 0 0 0 0 0 0\n",
    "0 0 0 0 1 2 2 0 0 0 0 0 0 0 0 0 0 0 0\n",
    "0 0 1 1 0 1 0 0 0 0 0 0 0 0 0 0 0 0 0\n",
    "0 0 0 0 0 0 2 1 0 0 0 0 0 0 0 0 0 0 0\n",
    "0 0 0 0 0 0 0 0 0 0 0 0 0 0 0 0 0 0 0\n",
    "0 0 0 0 0 0 0 0 0 0 0 0 0 0 0 0 0 0 0\n",
    "0 0 0 0 0 0 0 0 0 0 0 0 0 0 0 0 0 0 0\n",
    "0 0 0 0 0 0 0 0 0 0 0 0 0 0 0 0 0 0 0\n",
    "0 0 0 0 0 0 0 0 0 0 0 0 0 0 0 0 0 0 0\n",
    "0 0 0 0 0 0 0 0 0 0 0 0 0 0 0 0 0 0 0\n",
    "0 0 0 0 0 0 0 0 0 0 0 0 0 0 0 0 0 0 0\n",
    "0 0 0 0 0 0 0 0 0 0 0 0 0 0 0 0 0 0 0\n",
    "0 0 0 0 0 0 0 0 0 0 0 0 0 0 0 0 0 0 0\n",
    "0 0 0 0 0 0 0 0 0 0 0 0 0 0 0 0 0 0 0\n",
    "0 0 0 0 0 0 0 0 0 0 0 0 0 0 0 0 0 0 0'''\n",
    "arr = arr.split('\\n')\n",
    "for idx,i in enumerate(arr):\n",
    "    arr[idx] = arr[idx].split()\n",
    "\n",
    "def go(g):\n",
    "    check_x = []\n",
    "    check_y = []\n",
    "    check_x.append([i for i in range(-4,0,1)])   \n",
    "    check_x.append([i for i in range(-4,0,1)])\n",
    "    check_x.append([0]*4)\n",
    "    check_x.append([i for i in range(1,5)])\n",
    "    check_x.append([i for i in range(1,5)])   \n",
    "    check_x.append([i for i in range(1,5)])\n",
    "    check_x.append([0]*4)\n",
    "    check_x.append([i for i in range(-4,0,1)])\n",
    "    \n",
    "    check_y.append([[0]*4])   \n",
    "    check_y.append([i for i in range(1,5)])\n",
    "    check_y.append([i for i in range(1,5)])\n",
    "    check_y.append([i for i in range(1,5)])\n",
    "    check_y.append([0]*4)   \n",
    "    check_y.append([i for i in range(4,0,-1)])\n",
    "    check_y.append([i for i in range(4,0,-1)])\n",
    "    check_y.append([i for i in range(4,0,-1)])\n",
    "\n",
    "    check_x, check_y\n",
    "    check = dict(x=check_x, y=check_y)\n",
    "        \n",
    "    x, y = 0, 0\n",
    "    \n",
    "    for i in range(5):\n",
    "        for loc_x, loc_y in check['x'], check['y']:\n",
    "            for lx, ly in loc_x, loc_y:\n",
    "                x -= lx\n",
    "                y -= ly\n",
    "                if x<0 or <0:\n",
    "                    x, y = 0, 0\n",
    "                    continue\n",
    "                \n",
    "            \n",
    "        \n",
    "    "
   ]
  },
  {
   "cell_type": "code",
   "execution_count": 1,
   "metadata": {},
   "outputs": [
    {
     "data": {
      "text/plain": [
       "[[0, 0, 0], 0, 0, 0]"
      ]
     },
     "execution_count": 1,
     "metadata": {},
     "output_type": "execute_result"
    }
   ],
   "source": [
    "k = []\n",
    "a = [0]\n",
    "k.append(a)\n",
    "k[0].append(0)\n",
    "k[0].append(0)\n",
    "k+a"
   ]
  },
  {
   "cell_type": "code",
   "execution_count": 3,
   "metadata": {
    "scrolled": true
   },
   "outputs": [
    {
     "ename": "IndexError",
     "evalue": "list index out of range",
     "output_type": "error",
     "traceback": [
      "\u001b[1;31m---------------------------------------------------------------------------\u001b[0m",
      "\u001b[1;31mIndexError\u001b[0m                                Traceback (most recent call last)",
      "\u001b[1;32m<ipython-input-3-7758ce320dfb>\u001b[0m in \u001b[0;36m<module>\u001b[1;34m()\u001b[0m\n\u001b[0;32m     74\u001b[0m                     \u001b[1;32melse\u001b[0m\u001b[1;33m:\u001b[0m\u001b[1;33m\u001b[0m\u001b[0m\n\u001b[0;32m     75\u001b[0m \u001b[1;31m#                         if 19 >lxy[0]+addnum+xk >= 0 and 19 > lxy[1]+addnum+yk >= 0:\u001b[0m\u001b[1;33m\u001b[0m\u001b[1;33m\u001b[0m\u001b[0m\n\u001b[1;32m---> 76\u001b[1;33m                             \u001b[0mchecking\u001b[0m\u001b[1;33m.\u001b[0m\u001b[0mappend\u001b[0m\u001b[1;33m(\u001b[0m\u001b[0marr\u001b[0m\u001b[1;33m[\u001b[0m\u001b[0mlxy\u001b[0m\u001b[1;33m[\u001b[0m\u001b[1;36m0\u001b[0m\u001b[1;33m]\u001b[0m\u001b[1;33m+\u001b[0m\u001b[0maddnum\u001b[0m\u001b[1;33m+\u001b[0m\u001b[0mxk\u001b[0m\u001b[1;33m]\u001b[0m\u001b[1;33m[\u001b[0m\u001b[0mlxy\u001b[0m\u001b[1;33m[\u001b[0m\u001b[1;36m1\u001b[0m\u001b[1;33m]\u001b[0m\u001b[1;33m+\u001b[0m\u001b[0maddnum\u001b[0m\u001b[1;33m+\u001b[0m\u001b[0myk\u001b[0m\u001b[1;33m]\u001b[0m\u001b[1;33m)\u001b[0m\u001b[1;33m\u001b[0m\u001b[0m\n\u001b[0m\u001b[0;32m     77\u001b[0m \u001b[1;31m#                         print(checking,\"확인3\")\u001b[0m\u001b[1;33m\u001b[0m\u001b[1;33m\u001b[0m\u001b[0m\n\u001b[0;32m     78\u001b[0m \u001b[1;33m\u001b[0m\u001b[0m\n",
      "\u001b[1;31mIndexError\u001b[0m: list index out of range"
     ]
    }
   ],
   "source": [
    "arr = '''0 0 0 0 0 0 0 0 0 0 0 0 0 0 0 0 0 0 0\n",
    "0 0 0 0 0 0 0 0 0 0 0 0 0 0 0 0 0 0 0\n",
    "0 1 2 0 0 2 2 2 1 0 0 0 0 0 0 0 0 0 0\n",
    "0 0 1 2 0 0 0 0 1 0 0 0 0 0 0 0 0 0 0\n",
    "0 0 0 1 2 0 0 0 0 0 0 0 0 0 0 0 0 0 0\n",
    "0 0 0 0 1 2 2 0 0 0 0 0 0 0 0 0 0 0 0\n",
    "0 0 1 1 0 1 0 0 0 0 0 0 0 0 0 0 0 0 0\n",
    "0 0 0 0 0 0 2 1 0 0 0 0 0 0 0 0 0 0 0\n",
    "0 0 0 0 0 0 0 0 0 0 0 0 0 0 0 0 0 0 0\n",
    "0 0 0 0 0 0 0 0 0 0 0 0 0 0 0 0 0 0 0\n",
    "0 0 0 0 0 0 0 0 0 0 0 0 0 0 0 0 0 0 0\n",
    "0 0 0 0 0 0 0 0 0 0 0 0 0 0 0 0 0 0 0\n",
    "0 0 0 0 0 0 0 0 0 0 0 0 0 0 0 0 0 0 0\n",
    "0 0 0 0 0 0 0 0 0 0 0 0 0 0 0 0 0 0 0\n",
    "0 0 0 0 0 0 0 0 0 0 0 0 0 0 0 0 0 0 0\n",
    "0 0 0 0 0 0 0 0 0 0 0 0 0 0 0 0 0 0 0\n",
    "0 0 0 0 0 0 0 0 0 0 0 0 0 0 0 0 0 0 0\n",
    "0 0 0 0 0 0 0 0 0 0 0 0 0 0 0 0 0 0 0\n",
    "0 0 0 0 0 0 0 0 0 0 0 0 0 0 0 0 0 0 0'''\n",
    "arr = arr.split('\\n')\n",
    "\n",
    "#좌, 좌상, 상, 우상, 우, 우하, 하, 좌하\n",
    "check_x = []\n",
    "check_y = []\n",
    "check_y.append([i for i in range(-4,1,1)])   #좌\n",
    "check_y.append([i for i in range(-4,1,1)])   #좌상\n",
    "check_y.append([0]*5)    #상\n",
    "check_y.append([i for i in range(0,5)])     #우상\n",
    "check_y.append([i for i in range(0,5)])     #우\n",
    "check_y.append([i for i in range(0,5)])     #우하\n",
    "check_y.append([0]*5)      #하\n",
    "check_y.append([i for i in range(-4,1,1)])  #좌하\n",
    "\n",
    "check_x.append([0]*5)   \n",
    "check_x.append([i for i in range(0,5)])\n",
    "check_x.append([i for i in range(0,5)])\n",
    "check_x.append([i for i in range(0,5)])\n",
    "check_x.append([0]*5)   \n",
    "check_x.append([i for i in range(-4,1,1)])\n",
    "check_x.append([i for i in range(-4,1,1)])\n",
    "check_x.append([i for i in range(-4,1,1)])\n",
    "\n",
    "check_x, check_y\n",
    "check = dict(x=check_x, y=check_y)\n",
    "check['x'], check['y']\n",
    "\n",
    "direction = ['y','xy','x','xy','y','xy','x','xy']\n",
    "\n",
    "# x, y = 0, 0\n",
    "tempx = []\n",
    "tempy = []\n",
    "checking = []\n",
    "\n",
    "arr[0][0]\n",
    "check['x']\n",
    "for xk in range(19):\n",
    "    for yk in range(19):\n",
    "        for addxy, loc_xy in enumerate(zip(check['x'], check['y'])):\n",
    "#     print(loc_xy[0],loc_xy[1])\n",
    "#     for addnum in range(5):\n",
    "#         print(addxy,\"방향넘버\")\n",
    "            for idx,lxy in enumerate(zip(loc_xy[0], loc_xy[1])):\n",
    "#                 print(lxy[0], lxy[1])\n",
    "                for addnum in range(5):\n",
    "            \n",
    "                    if direction[addxy]=='x':\n",
    "#                         if 19> lxy[0]+addnum+xk >= 0 and 19> lxy[1]+yk >= 0:\n",
    "                            checking.append(arr[lxy[0]+addnum+xk][lxy[1]+yk])\n",
    "#                         print(checking,\"확인1\")\n",
    "                    elif direction[addxy]=='y':\n",
    "#                         if 19> lxy[0]+xk >= 0 and 19> lxy[1]+addnum+yk >= 0:\n",
    "                            checking.append(arr[lxy[0]+xk][lxy[1]+addnum+yk])\n",
    "#                         print(checking,\"확인2\")\n",
    "                    else:\n",
    "#                         if 19 >lxy[0]+addnum+xk >= 0 and 19 > lxy[1]+addnum+yk >= 0:\n",
    "                            checking.append(arr[lxy[0]+addnum+xk][lxy[1]+addnum+yk])\n",
    "#                         print(checking,\"확인3\")\n",
    "            \n",
    "                    setcheck = set(checking)\n",
    "                    if ' ' in setcheck:\n",
    "                        setcheck.remove(' ') \n",
    "#                     print(checking, \"checheck\")\n",
    "                    if len(setcheck)==1 and len(checking)==5:\n",
    "                        print(setcheck, 'setch')\n",
    "                    checking = []\n",
    "            \n",
    "            \n",
    "#             print(checking)\n",
    "#             print(arr[lxy[0]+addnum][lxy[1])\n",
    "#             print(*checking, \"666\")\n",
    "#             print(set(checking),\"set\")\n",
    "#             if len(set(checking))==1 and set(checking)!=0 and set(checking)!=' ':\n",
    "#                 print(\"Winner is \", *checking)\n",
    "#                 checking=[]\n",
    "#                 break\n",
    "#             if set(checking)==1 or set(checking)==2:\n",
    "#                 print(\"Winner is \", *checking)\n",
    "#                 checking=[]\n",
    "#                 break\n",
    "                checking=[]\n",
    "        \n",
    "#     print('$$$$$$$$$$$$$$$$$$$$$$')\n",
    "#         for addnum in range(5):\n",
    "#             print(lxy, addnum)\n",
    "#             tempx= [e+addnum for e in lxy[0]]\n",
    "#             tempy= [e+addnum for e in lxy[1]]\n",
    "#             print(tempx)\n",
    "#             print(tempy)\n",
    "#             for index in zip(tempx,tempy):\n",
    "#                 checking.append(arr[index[0]][index[1])\n",
    "#             if len(set(checking))==1:\n",
    "#                 print(\"Winner is \", checking)\n",
    "#                 break all\n",
    "        \n",
    "print(1)"
   ]
  },
  {
   "cell_type": "code",
   "execution_count": 52,
   "metadata": {},
   "outputs": [
    {
     "data": {
      "text/plain": [
       "-4"
      ]
     },
     "execution_count": 52,
     "metadata": {},
     "output_type": "execute_result"
    }
   ],
   "source": [
    "addnumm = 1\n",
    "lxy = (0, -4)\n",
    "# temp = [e+addnumm for e in lxy[0]]\n",
    "# temp\n",
    "lxy[1]"
   ]
  },
  {
   "cell_type": "code",
   "execution_count": 92,
   "metadata": {},
   "outputs": [
    {
     "data": {
      "text/plain": [
       "True"
      ]
     },
     "execution_count": 92,
     "metadata": {},
     "output_type": "execute_result"
    }
   ],
   "source": [
    "a=[1,2,3]\n",
    "b=[4,5,6]\n",
    "a[-1]\n",
    "arr[0][-4] == ' '"
   ]
  },
  {
   "cell_type": "code",
   "execution_count": 109,
   "metadata": {},
   "outputs": [
    {
     "name": "stdout",
     "output_type": "stream",
     "text": [
      "y\n"
     ]
    },
    {
     "data": {
      "text/plain": [
       "{1, 2, ' '}"
      ]
     },
     "execution_count": 109,
     "metadata": {},
     "output_type": "execute_result"
    }
   ],
   "source": [
    "u = set([0,1,2,2,0,' ', ' '])\n",
    "u.remove(0)\n",
    "type(u)\n",
    "# u.remove(' ')\n",
    "if ' ' in u:\n",
    "    print('y')\n",
    "u"
   ]
  },
  {
   "cell_type": "code",
   "execution_count": 67,
   "metadata": {},
   "outputs": [
    {
     "data": {
      "text/plain": [
       "0"
      ]
     },
     "execution_count": 67,
     "metadata": {},
     "output_type": "execute_result"
    }
   ],
   "source": [
    "len(set())"
   ]
  }
 ],
 "metadata": {
  "kernelspec": {
   "display_name": "Python 3",
   "language": "python",
   "name": "python3"
  },
  "language_info": {
   "codemirror_mode": {
    "name": "ipython",
    "version": 3
   },
   "file_extension": ".py",
   "mimetype": "text/x-python",
   "name": "python",
   "nbconvert_exporter": "python",
   "pygments_lexer": "ipython3",
   "version": "3.6.1"
  }
 },
 "nbformat": 4,
 "nbformat_minor": 2
}
